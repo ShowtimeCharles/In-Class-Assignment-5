{
 "cells": [
  {
   "cell_type": "markdown",
   "metadata": {},
   "source": [
    "# In Class Assignment #5: File IO, Recursion\n",
    "\n",
    "## Submit this assignment completed, in its own repository, as a GITHUB LINK. Cite your sources as always"
   ]
  },
  {
   "cell_type": "markdown",
   "metadata": {},
   "source": [
    "# PART 1. \n",
    "Read in \"numbers.txt\" using the \"open file\" method we learned in class. Save the contents in a list variable called \"L\"\n",
    "\n"
   ]
  },
  {
   "cell_type": "code",
   "execution_count": 1,
   "metadata": {},
   "outputs": [],
   "source": [
    "filename = 'numbers.txt'"
   ]
  },
  {
   "cell_type": "code",
   "execution_count": 2,
   "metadata": {},
   "outputs": [],
   "source": [
    "L = []"
   ]
  },
  {
   "cell_type": "code",
   "execution_count": 3,
   "metadata": {},
   "outputs": [],
   "source": [
    "with open(filename, \"r\") as file_object:\n",
    "    for line in file_object:\n",
    "        s = line.strip().split(\", \")\n",
    "        for i in s:\n",
    "            L.append(int(i))"
   ]
  },
  {
   "cell_type": "code",
   "execution_count": 4,
   "metadata": {},
   "outputs": [
    {
     "data": {
      "text/plain": [
       "[10,\n",
       " 32,\n",
       " 70,\n",
       " 42,\n",
       " 34,\n",
       " 35,\n",
       " 46,\n",
       " 88,\n",
       " 10,\n",
       " 10,\n",
       " 22,\n",
       " 97,\n",
       " 22,\n",
       " 37,\n",
       " 75,\n",
       " 99,\n",
       " 46,\n",
       " 63,\n",
       " 8,\n",
       " 51,\n",
       " 8,\n",
       " 7,\n",
       " 4,\n",
       " 66,\n",
       " 24,\n",
       " 94,\n",
       " 76,\n",
       " 48,\n",
       " 14,\n",
       " 58]"
      ]
     },
     "execution_count": 4,
     "metadata": {},
     "output_type": "execute_result"
    }
   ],
   "source": [
    "L"
   ]
  },
  {
   "cell_type": "markdown",
   "metadata": {},
   "source": [
    "# PART 2. \n",
    "\n",
    "Write a Python function called \"sum_recursive()\" that takes a positive integer \"n\" as an input and \n",
    "uses recursion to calculate the *sum of all integers* from 1 to \"n\". Your function should return the sum.\n",
    "\n",
    "For example, if n is 5, your function should calculate and return the sum 1 + 2 + 3 + 4 + 5 = 15.\n",
    "\n",
    "You can assume that the input n will always be a positive integer.\n",
    "\n",
    "You should not use any built-in functions or methods that directly solve this problem (e.g. sum() or range()), \n",
    "and you should use recursion to solve the problem."
   ]
  },
  {
   "cell_type": "code",
   "execution_count": 5,
   "metadata": {},
   "outputs": [],
   "source": [
    "def sum_recursive(num):\n",
    "    if num == 1:\n",
    "        return num\n",
    "    else:\n",
    "        return num + sum_recursive(num-1)"
   ]
  },
  {
   "cell_type": "code",
   "execution_count": 12,
   "metadata": {},
   "outputs": [
    {
     "name": "stdout",
     "output_type": "stream",
     "text": [
      "15\n"
     ]
    }
   ],
   "source": [
    "print(sum_recursive(5))"
   ]
  },
  {
   "cell_type": "markdown",
   "metadata": {},
   "source": [
    "## PART 3.\n",
    "\n",
    "Write a Python function called \"looping()\" that takes a list of integers, runs each integer through \"sum_recursive()\", and returns the list of recursively summed integers.\n",
    "\n",
    "ie. if your list is [2, 5, 3], your function output should be [3, 15, 6]"
   ]
  },
  {
   "cell_type": "code",
   "execution_count": 7,
   "metadata": {},
   "outputs": [],
   "source": [
    "def looping(myList):\n",
    "    x = []\n",
    "    for i in myList:\n",
    "        x.append(sum_recursive(i))\n",
    "    return x"
   ]
  },
  {
   "cell_type": "code",
   "execution_count": 8,
   "metadata": {},
   "outputs": [
    {
     "name": "stdout",
     "output_type": "stream",
     "text": [
      "[3, 15, 6]\n"
     ]
    }
   ],
   "source": [
    "print(looping([2,5,3]))"
   ]
  },
  {
   "cell_type": "markdown",
   "metadata": {},
   "source": [
    "## PART 4. \n",
    "You probably saw this coming by now..\n",
    "\n",
    "Please run the contents of the \"numbers.txt\" file (you completed in PART 1) through your \"looping()\" function"
   ]
  },
  {
   "cell_type": "code",
   "execution_count": 10,
   "metadata": {},
   "outputs": [
    {
     "name": "stdout",
     "output_type": "stream",
     "text": [
      "[55, 528, 2485, 903, 595, 630, 1081, 3916, 55, 55, 253, 4753, 253, 703, 2850, 4950, 1081, 2016, 36, 1326, 36, 28, 10, 2211, 300, 4465, 2926, 1176, 105, 1711]\n"
     ]
    }
   ],
   "source": [
    "print(looping(L))"
   ]
  },
  {
   "cell_type": "code",
   "execution_count": null,
   "metadata": {},
   "outputs": [],
   "source": []
  }
 ],
 "metadata": {
  "kernelspec": {
   "display_name": "Python 3 (ipykernel)",
   "language": "python",
   "name": "python3"
  },
  "language_info": {
   "codemirror_mode": {
    "name": "ipython",
    "version": 3
   },
   "file_extension": ".py",
   "mimetype": "text/x-python",
   "name": "python",
   "nbconvert_exporter": "python",
   "pygments_lexer": "ipython3",
   "version": "3.9.13"
  }
 },
 "nbformat": 4,
 "nbformat_minor": 2
}
